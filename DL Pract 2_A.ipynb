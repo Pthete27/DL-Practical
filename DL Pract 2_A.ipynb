{
 "cells": [
  {
   "cell_type": "code",
   "execution_count": 1,
   "id": "1870c774",
   "metadata": {},
   "outputs": [],
   "source": [
    "import pandas as pd\n",
    "import numpy as np\n",
    "from sklearn.model_selection import train_test_split"
   ]
  },
  {
   "cell_type": "code",
   "execution_count": 2,
   "id": "a5aa7a9a",
   "metadata": {},
   "outputs": [],
   "source": [
    "columns = [\"lettr\", \"x-box\", \"y-box\", \"width\", \"height\", \"onpix\", \"x-bar\",\"y-bar\", \"x2bar\", \"y2bar\", \"xybar\", \"x2ybr\", \"xy2br\", \"x-ege\", \"xegvy\",\"y-ege\", \"yegvx\"]"
   ]
  },
  {
   "cell_type": "code",
   "execution_count": 3,
   "id": "1d884031",
   "metadata": {},
   "outputs": [],
   "source": [
    "df = pd.read_csv(r\"D:\\Amit\\PVG CLG\\SEM 8\\Practicals\\letter-recognition.data\", names=columns)"
   ]
  },
  {
   "cell_type": "code",
   "execution_count": 4,
   "id": "11ef799f",
   "metadata": {},
   "outputs": [
    {
     "data": {
      "text/html": [
       "<div>\n",
       "<style scoped>\n",
       "    .dataframe tbody tr th:only-of-type {\n",
       "        vertical-align: middle;\n",
       "    }\n",
       "\n",
       "    .dataframe tbody tr th {\n",
       "        vertical-align: top;\n",
       "    }\n",
       "\n",
       "    .dataframe thead th {\n",
       "        text-align: right;\n",
       "    }\n",
       "</style>\n",
       "<table border=\"1\" class=\"dataframe\">\n",
       "  <thead>\n",
       "    <tr style=\"text-align: right;\">\n",
       "      <th></th>\n",
       "      <th>lettr</th>\n",
       "      <th>x-box</th>\n",
       "      <th>y-box</th>\n",
       "      <th>width</th>\n",
       "      <th>height</th>\n",
       "      <th>onpix</th>\n",
       "      <th>x-bar</th>\n",
       "      <th>y-bar</th>\n",
       "      <th>x2bar</th>\n",
       "      <th>y2bar</th>\n",
       "      <th>xybar</th>\n",
       "      <th>x2ybr</th>\n",
       "      <th>xy2br</th>\n",
       "      <th>x-ege</th>\n",
       "      <th>xegvy</th>\n",
       "      <th>y-ege</th>\n",
       "      <th>yegvx</th>\n",
       "    </tr>\n",
       "  </thead>\n",
       "  <tbody>\n",
       "    <tr>\n",
       "      <th>0</th>\n",
       "      <td>T</td>\n",
       "      <td>2</td>\n",
       "      <td>8</td>\n",
       "      <td>3</td>\n",
       "      <td>5</td>\n",
       "      <td>1</td>\n",
       "      <td>8</td>\n",
       "      <td>13</td>\n",
       "      <td>0</td>\n",
       "      <td>6</td>\n",
       "      <td>6</td>\n",
       "      <td>10</td>\n",
       "      <td>8</td>\n",
       "      <td>0</td>\n",
       "      <td>8</td>\n",
       "      <td>0</td>\n",
       "      <td>8</td>\n",
       "    </tr>\n",
       "    <tr>\n",
       "      <th>1</th>\n",
       "      <td>I</td>\n",
       "      <td>5</td>\n",
       "      <td>12</td>\n",
       "      <td>3</td>\n",
       "      <td>7</td>\n",
       "      <td>2</td>\n",
       "      <td>10</td>\n",
       "      <td>5</td>\n",
       "      <td>5</td>\n",
       "      <td>4</td>\n",
       "      <td>13</td>\n",
       "      <td>3</td>\n",
       "      <td>9</td>\n",
       "      <td>2</td>\n",
       "      <td>8</td>\n",
       "      <td>4</td>\n",
       "      <td>10</td>\n",
       "    </tr>\n",
       "    <tr>\n",
       "      <th>2</th>\n",
       "      <td>D</td>\n",
       "      <td>4</td>\n",
       "      <td>11</td>\n",
       "      <td>6</td>\n",
       "      <td>8</td>\n",
       "      <td>6</td>\n",
       "      <td>10</td>\n",
       "      <td>6</td>\n",
       "      <td>2</td>\n",
       "      <td>6</td>\n",
       "      <td>10</td>\n",
       "      <td>3</td>\n",
       "      <td>7</td>\n",
       "      <td>3</td>\n",
       "      <td>7</td>\n",
       "      <td>3</td>\n",
       "      <td>9</td>\n",
       "    </tr>\n",
       "    <tr>\n",
       "      <th>3</th>\n",
       "      <td>N</td>\n",
       "      <td>7</td>\n",
       "      <td>11</td>\n",
       "      <td>6</td>\n",
       "      <td>6</td>\n",
       "      <td>3</td>\n",
       "      <td>5</td>\n",
       "      <td>9</td>\n",
       "      <td>4</td>\n",
       "      <td>6</td>\n",
       "      <td>4</td>\n",
       "      <td>4</td>\n",
       "      <td>10</td>\n",
       "      <td>6</td>\n",
       "      <td>10</td>\n",
       "      <td>2</td>\n",
       "      <td>8</td>\n",
       "    </tr>\n",
       "    <tr>\n",
       "      <th>4</th>\n",
       "      <td>G</td>\n",
       "      <td>2</td>\n",
       "      <td>1</td>\n",
       "      <td>3</td>\n",
       "      <td>1</td>\n",
       "      <td>1</td>\n",
       "      <td>8</td>\n",
       "      <td>6</td>\n",
       "      <td>6</td>\n",
       "      <td>6</td>\n",
       "      <td>6</td>\n",
       "      <td>5</td>\n",
       "      <td>9</td>\n",
       "      <td>1</td>\n",
       "      <td>7</td>\n",
       "      <td>5</td>\n",
       "      <td>10</td>\n",
       "    </tr>\n",
       "    <tr>\n",
       "      <th>...</th>\n",
       "      <td>...</td>\n",
       "      <td>...</td>\n",
       "      <td>...</td>\n",
       "      <td>...</td>\n",
       "      <td>...</td>\n",
       "      <td>...</td>\n",
       "      <td>...</td>\n",
       "      <td>...</td>\n",
       "      <td>...</td>\n",
       "      <td>...</td>\n",
       "      <td>...</td>\n",
       "      <td>...</td>\n",
       "      <td>...</td>\n",
       "      <td>...</td>\n",
       "      <td>...</td>\n",
       "      <td>...</td>\n",
       "      <td>...</td>\n",
       "    </tr>\n",
       "    <tr>\n",
       "      <th>19995</th>\n",
       "      <td>D</td>\n",
       "      <td>2</td>\n",
       "      <td>2</td>\n",
       "      <td>3</td>\n",
       "      <td>3</td>\n",
       "      <td>2</td>\n",
       "      <td>7</td>\n",
       "      <td>7</td>\n",
       "      <td>7</td>\n",
       "      <td>6</td>\n",
       "      <td>6</td>\n",
       "      <td>6</td>\n",
       "      <td>4</td>\n",
       "      <td>2</td>\n",
       "      <td>8</td>\n",
       "      <td>3</td>\n",
       "      <td>7</td>\n",
       "    </tr>\n",
       "    <tr>\n",
       "      <th>19996</th>\n",
       "      <td>C</td>\n",
       "      <td>7</td>\n",
       "      <td>10</td>\n",
       "      <td>8</td>\n",
       "      <td>8</td>\n",
       "      <td>4</td>\n",
       "      <td>4</td>\n",
       "      <td>8</td>\n",
       "      <td>6</td>\n",
       "      <td>9</td>\n",
       "      <td>12</td>\n",
       "      <td>9</td>\n",
       "      <td>13</td>\n",
       "      <td>2</td>\n",
       "      <td>9</td>\n",
       "      <td>3</td>\n",
       "      <td>7</td>\n",
       "    </tr>\n",
       "    <tr>\n",
       "      <th>19997</th>\n",
       "      <td>T</td>\n",
       "      <td>6</td>\n",
       "      <td>9</td>\n",
       "      <td>6</td>\n",
       "      <td>7</td>\n",
       "      <td>5</td>\n",
       "      <td>6</td>\n",
       "      <td>11</td>\n",
       "      <td>3</td>\n",
       "      <td>7</td>\n",
       "      <td>11</td>\n",
       "      <td>9</td>\n",
       "      <td>5</td>\n",
       "      <td>2</td>\n",
       "      <td>12</td>\n",
       "      <td>2</td>\n",
       "      <td>4</td>\n",
       "    </tr>\n",
       "    <tr>\n",
       "      <th>19998</th>\n",
       "      <td>S</td>\n",
       "      <td>2</td>\n",
       "      <td>3</td>\n",
       "      <td>4</td>\n",
       "      <td>2</td>\n",
       "      <td>1</td>\n",
       "      <td>8</td>\n",
       "      <td>7</td>\n",
       "      <td>2</td>\n",
       "      <td>6</td>\n",
       "      <td>10</td>\n",
       "      <td>6</td>\n",
       "      <td>8</td>\n",
       "      <td>1</td>\n",
       "      <td>9</td>\n",
       "      <td>5</td>\n",
       "      <td>8</td>\n",
       "    </tr>\n",
       "    <tr>\n",
       "      <th>19999</th>\n",
       "      <td>A</td>\n",
       "      <td>4</td>\n",
       "      <td>9</td>\n",
       "      <td>6</td>\n",
       "      <td>6</td>\n",
       "      <td>2</td>\n",
       "      <td>9</td>\n",
       "      <td>5</td>\n",
       "      <td>3</td>\n",
       "      <td>1</td>\n",
       "      <td>8</td>\n",
       "      <td>1</td>\n",
       "      <td>8</td>\n",
       "      <td>2</td>\n",
       "      <td>7</td>\n",
       "      <td>2</td>\n",
       "      <td>8</td>\n",
       "    </tr>\n",
       "  </tbody>\n",
       "</table>\n",
       "<p>20000 rows × 17 columns</p>\n",
       "</div>"
      ],
      "text/plain": [
       "      lettr  x-box  y-box  width  height  onpix  x-bar  y-bar  x2bar  y2bar  \\\n",
       "0         T      2      8      3       5      1      8     13      0      6   \n",
       "1         I      5     12      3       7      2     10      5      5      4   \n",
       "2         D      4     11      6       8      6     10      6      2      6   \n",
       "3         N      7     11      6       6      3      5      9      4      6   \n",
       "4         G      2      1      3       1      1      8      6      6      6   \n",
       "...     ...    ...    ...    ...     ...    ...    ...    ...    ...    ...   \n",
       "19995     D      2      2      3       3      2      7      7      7      6   \n",
       "19996     C      7     10      8       8      4      4      8      6      9   \n",
       "19997     T      6      9      6       7      5      6     11      3      7   \n",
       "19998     S      2      3      4       2      1      8      7      2      6   \n",
       "19999     A      4      9      6       6      2      9      5      3      1   \n",
       "\n",
       "       xybar  x2ybr  xy2br  x-ege  xegvy  y-ege  yegvx  \n",
       "0          6     10      8      0      8      0      8  \n",
       "1         13      3      9      2      8      4     10  \n",
       "2         10      3      7      3      7      3      9  \n",
       "3          4      4     10      6     10      2      8  \n",
       "4          6      5      9      1      7      5     10  \n",
       "...      ...    ...    ...    ...    ...    ...    ...  \n",
       "19995      6      6      4      2      8      3      7  \n",
       "19996     12      9     13      2      9      3      7  \n",
       "19997     11      9      5      2     12      2      4  \n",
       "19998     10      6      8      1      9      5      8  \n",
       "19999      8      1      8      2      7      2      8  \n",
       "\n",
       "[20000 rows x 17 columns]"
      ]
     },
     "execution_count": 4,
     "metadata": {},
     "output_type": "execute_result"
    }
   ],
   "source": [
    "df"
   ]
  },
  {
   "cell_type": "code",
   "execution_count": 5,
   "id": "f953a343",
   "metadata": {},
   "outputs": [],
   "source": [
    "x = df.drop(\"lettr\", axis=1).values\n",
    "y = df[\"lettr\"].values"
   ]
  },
  {
   "cell_type": "code",
   "execution_count": 6,
   "id": "ebb99e6e",
   "metadata": {},
   "outputs": [
    {
     "data": {
      "text/plain": [
       "(20000, 16)"
      ]
     },
     "execution_count": 6,
     "metadata": {},
     "output_type": "execute_result"
    }
   ],
   "source": [
    "x.shape"
   ]
  },
  {
   "cell_type": "code",
   "execution_count": 7,
   "id": "e2ae705e",
   "metadata": {},
   "outputs": [
    {
     "data": {
      "text/plain": [
       "(20000,)"
      ]
     },
     "execution_count": 7,
     "metadata": {},
     "output_type": "execute_result"
    }
   ],
   "source": [
    "y.shape"
   ]
  },
  {
   "cell_type": "code",
   "execution_count": 8,
   "id": "f089c357",
   "metadata": {},
   "outputs": [
    {
     "data": {
      "text/plain": [
       "array(['A', 'B', 'C', 'D', 'E', 'F', 'G', 'H', 'I', 'J', 'K', 'L', 'M',\n",
       "       'N', 'O', 'P', 'Q', 'R', 'S', 'T', 'U', 'V', 'W', 'X', 'Y', 'Z'],\n",
       "      dtype=object)"
      ]
     },
     "execution_count": 8,
     "metadata": {},
     "output_type": "execute_result"
    }
   ],
   "source": [
    "np.unique(y)"
   ]
  },
  {
   "cell_type": "code",
   "execution_count": 9,
   "id": "0a45a929",
   "metadata": {},
   "outputs": [],
   "source": [
    "x_train, x_test, y_train, y_test = train_test_split(x, y, test_size=0.2)"
   ]
  },
  {
   "cell_type": "code",
   "execution_count": 10,
   "id": "c54fac7e",
   "metadata": {},
   "outputs": [
    {
     "name": "stdout",
     "output_type": "stream",
     "text": [
      "Train Shape : (16000, 16)\n",
      "Test Shape : (4000, 16)\n",
      "y_train shape : (16000,)\n",
      "y_test shape : (4000,)\n"
     ]
    }
   ],
   "source": [
    "def shape():\n",
    "    print(\"Train Shape :\",x_train.shape)\n",
    "    print(\"Test Shape :\",x_test.shape)\n",
    "    print(\"y_train shape :\",y_train.shape)\n",
    "    print(\"y_test shape :\",y_test.shape)\n",
    "\n",
    "shape()"
   ]
  },
  {
   "cell_type": "code",
   "execution_count": 11,
   "id": "9df95e26",
   "metadata": {},
   "outputs": [
    {
     "data": {
      "text/plain": [
       "array([ 6, 10,  6,  5,  4,  8, 10,  3,  5, 11,  5,  4,  4,  9,  7,  7],\n",
       "      dtype=int64)"
      ]
     },
     "execution_count": 11,
     "metadata": {},
     "output_type": "execute_result"
    }
   ],
   "source": [
    " x_train[0]"
   ]
  },
  {
   "cell_type": "code",
   "execution_count": 12,
   "id": "03bd247a",
   "metadata": {},
   "outputs": [
    {
     "data": {
      "text/plain": [
       "'F'"
      ]
     },
     "execution_count": 12,
     "metadata": {},
     "output_type": "execute_result"
    }
   ],
   "source": [
    " y_train[0]"
   ]
  },
  {
   "cell_type": "code",
   "execution_count": 13,
   "id": "b7cea586",
   "metadata": {},
   "outputs": [],
   "source": [
    "class_names=['A', 'B', 'C', 'D', 'E', 'F', 'G', 'H', 'I', 'J', 'K', 'L', 'M','N', 'O', 'P', 'Q', 'R', 'S', 'T', 'U', 'V', 'W', 'X', 'Y', 'Z']"
   ]
  },
  {
   "cell_type": "code",
   "execution_count": 14,
   "id": "d62123e4",
   "metadata": {},
   "outputs": [
    {
     "data": {
      "text/plain": [
       "array([ 6, 11,  8,  8,  7,  7,  7,  8,  5,  7,  6,  7,  6,  7,  3,  9],\n",
       "      dtype=int64)"
      ]
     },
     "execution_count": 14,
     "metadata": {},
     "output_type": "execute_result"
    }
   ],
   "source": [
    " x_test[10]"
   ]
  },
  {
   "cell_type": "code",
   "execution_count": 15,
   "id": "85f1e490",
   "metadata": {},
   "outputs": [
    {
     "data": {
      "text/plain": [
       "'N'"
      ]
     },
     "execution_count": 15,
     "metadata": {},
     "output_type": "execute_result"
    }
   ],
   "source": [
    " y_test[10]"
   ]
  },
  {
   "cell_type": "code",
   "execution_count": 16,
   "id": "6d0621b7",
   "metadata": {},
   "outputs": [],
   "source": [
    "x_train = x_train/255\n",
    "x_test = x_test/255"
   ]
  },
  {
   "cell_type": "code",
   "execution_count": 17,
   "id": "196aafc7",
   "metadata": {},
   "outputs": [],
   "source": [
    "from sklearn.preprocessing import LabelEncoder\n",
    "\n",
    "encoder = LabelEncoder()\n",
    "\n",
    "y_train = encoder.fit_transform(y_train)\n",
    "y_test = encoder.fit_transform(y_test)"
   ]
  },
  {
   "cell_type": "code",
   "execution_count": 18,
   "id": "fd5d5fde",
   "metadata": {},
   "outputs": [],
   "source": [
    "from tensorflow.keras.models import Sequential\n",
    "from tensorflow.keras.layers import Dense, Dropout"
   ]
  },
  {
   "cell_type": "code",
   "execution_count": 19,
   "id": "5baec4e4",
   "metadata": {},
   "outputs": [
    {
     "name": "stdout",
     "output_type": "stream",
     "text": [
      "Model: \"sequential\"\n",
      "_________________________________________________________________\n",
      " Layer (type)                Output Shape              Param #   \n",
      "=================================================================\n",
      " dense (Dense)               (None, 512)               8704      \n",
      "                                                                 \n",
      " dropout (Dropout)           (None, 512)               0         \n",
      "                                                                 \n",
      " dense_1 (Dense)             (None, 256)               131328    \n",
      "                                                                 \n",
      " dropout_1 (Dropout)         (None, 256)               0         \n",
      "                                                                 \n",
      " dense_2 (Dense)             (None, 26)                6682      \n",
      "                                                                 \n",
      "=================================================================\n",
      "Total params: 146,714\n",
      "Trainable params: 146,714\n",
      "Non-trainable params: 0\n",
      "_________________________________________________________________\n"
     ]
    }
   ],
   "source": [
    "model=Sequential()\n",
    "\n",
    "model.add(Dense(512, activation='relu', input_shape=(16,)))\n",
    "model.add(Dropout(0.2))\n",
    "\n",
    "model.add(Dense(256, activation='relu'))\n",
    "model.add(Dropout(0.2))\n",
    "\n",
    "model.add(Dense(26, activation='softmax'))\n",
    "\n",
    "model.compile(optimizer='adam', loss='sparse_categorical_crossentropy',metrics=['accuracy'])\n",
    "model.summary()"
   ]
  },
  {
   "cell_type": "code",
   "execution_count": 20,
   "id": "28b0b9cb",
   "metadata": {},
   "outputs": [
    {
     "name": "stdout",
     "output_type": "stream",
     "text": [
      "Epoch 1/50\n",
      "125/125 [==============================] - 2s 11ms/step - loss: 3.1457 - accuracy: 0.1409 - val_loss: 2.8031 - val_accuracy: 0.2282\n",
      "Epoch 2/50\n",
      "125/125 [==============================] - 1s 8ms/step - loss: 2.4113 - accuracy: 0.3040 - val_loss: 2.1021 - val_accuracy: 0.3915\n",
      "Epoch 3/50\n",
      "125/125 [==============================] - 1s 9ms/step - loss: 2.0119 - accuracy: 0.3983 - val_loss: 1.8353 - val_accuracy: 0.4460\n",
      "Epoch 4/50\n",
      "125/125 [==============================] - 1s 9ms/step - loss: 1.8063 - accuracy: 0.4477 - val_loss: 1.6715 - val_accuracy: 0.4975\n",
      "Epoch 5/50\n",
      "125/125 [==============================] - 1s 9ms/step - loss: 1.6723 - accuracy: 0.4918 - val_loss: 1.5639 - val_accuracy: 0.5362\n",
      "Epoch 6/50\n",
      "125/125 [==============================] - 1s 9ms/step - loss: 1.5731 - accuracy: 0.5238 - val_loss: 1.4729 - val_accuracy: 0.5695\n",
      "Epoch 7/50\n",
      "125/125 [==============================] - 1s 8ms/step - loss: 1.4943 - accuracy: 0.5494 - val_loss: 1.4109 - val_accuracy: 0.5895\n",
      "Epoch 8/50\n",
      "125/125 [==============================] - 1s 8ms/step - loss: 1.4331 - accuracy: 0.5701 - val_loss: 1.3465 - val_accuracy: 0.6053\n",
      "Epoch 9/50\n",
      "125/125 [==============================] - 1s 8ms/step - loss: 1.3678 - accuracy: 0.5964 - val_loss: 1.2897 - val_accuracy: 0.6173\n",
      "Epoch 10/50\n",
      "125/125 [==============================] - 1s 9ms/step - loss: 1.3098 - accuracy: 0.6114 - val_loss: 1.2319 - val_accuracy: 0.6485\n",
      "Epoch 11/50\n",
      "125/125 [==============================] - 1s 9ms/step - loss: 1.2607 - accuracy: 0.6295 - val_loss: 1.1861 - val_accuracy: 0.6545\n",
      "Epoch 12/50\n",
      "125/125 [==============================] - 1s 10ms/step - loss: 1.2178 - accuracy: 0.6406 - val_loss: 1.1466 - val_accuracy: 0.6670\n",
      "Epoch 13/50\n",
      "125/125 [==============================] - 1s 10ms/step - loss: 1.1643 - accuracy: 0.6604 - val_loss: 1.1123 - val_accuracy: 0.6705\n",
      "Epoch 14/50\n",
      "125/125 [==============================] - 1s 10ms/step - loss: 1.1355 - accuracy: 0.6668 - val_loss: 1.0554 - val_accuracy: 0.6948\n",
      "Epoch 15/50\n",
      "125/125 [==============================] - 1s 10ms/step - loss: 1.0840 - accuracy: 0.6776 - val_loss: 1.0361 - val_accuracy: 0.6905\n",
      "Epoch 16/50\n",
      "125/125 [==============================] - 1s 9ms/step - loss: 1.0528 - accuracy: 0.6875 - val_loss: 0.9961 - val_accuracy: 0.7072\n",
      "Epoch 17/50\n",
      "125/125 [==============================] - 1s 9ms/step - loss: 1.0251 - accuracy: 0.6935 - val_loss: 0.9563 - val_accuracy: 0.7195\n",
      "Epoch 18/50\n",
      "125/125 [==============================] - 1s 10ms/step - loss: 0.9891 - accuracy: 0.7053 - val_loss: 0.9232 - val_accuracy: 0.7200\n",
      "Epoch 19/50\n",
      "125/125 [==============================] - 1s 10ms/step - loss: 0.9628 - accuracy: 0.7121 - val_loss: 0.8995 - val_accuracy: 0.7410\n",
      "Epoch 20/50\n",
      "125/125 [==============================] - 1s 10ms/step - loss: 0.9474 - accuracy: 0.7203 - val_loss: 0.8786 - val_accuracy: 0.7320\n",
      "Epoch 21/50\n",
      "125/125 [==============================] - 1s 10ms/step - loss: 0.9159 - accuracy: 0.7250 - val_loss: 0.8522 - val_accuracy: 0.7473\n",
      "Epoch 22/50\n",
      "125/125 [==============================] - 1s 9ms/step - loss: 0.9031 - accuracy: 0.7230 - val_loss: 0.8314 - val_accuracy: 0.7473\n",
      "Epoch 23/50\n",
      "125/125 [==============================] - 1s 9ms/step - loss: 0.8728 - accuracy: 0.7356 - val_loss: 0.8060 - val_accuracy: 0.7623\n",
      "Epoch 24/50\n",
      "125/125 [==============================] - 1s 9ms/step - loss: 0.8567 - accuracy: 0.7404 - val_loss: 0.7889 - val_accuracy: 0.7628\n",
      "Epoch 25/50\n",
      "125/125 [==============================] - 1s 10ms/step - loss: 0.8366 - accuracy: 0.7453 - val_loss: 0.7726 - val_accuracy: 0.7697\n",
      "Epoch 26/50\n",
      "125/125 [==============================] - 1s 10ms/step - loss: 0.8191 - accuracy: 0.7504 - val_loss: 0.7669 - val_accuracy: 0.7642\n",
      "Epoch 27/50\n",
      "125/125 [==============================] - 1s 9ms/step - loss: 0.8003 - accuracy: 0.7586 - val_loss: 0.7385 - val_accuracy: 0.7837\n",
      "Epoch 28/50\n",
      "125/125 [==============================] - 1s 8ms/step - loss: 0.7871 - accuracy: 0.7602 - val_loss: 0.7299 - val_accuracy: 0.7757\n",
      "Epoch 29/50\n",
      "125/125 [==============================] - 1s 8ms/step - loss: 0.7739 - accuracy: 0.7617 - val_loss: 0.7271 - val_accuracy: 0.7815\n",
      "Epoch 30/50\n",
      "125/125 [==============================] - 1s 8ms/step - loss: 0.7583 - accuracy: 0.7653 - val_loss: 0.6972 - val_accuracy: 0.7958\n",
      "Epoch 31/50\n",
      "125/125 [==============================] - 1s 10ms/step - loss: 0.7479 - accuracy: 0.7691 - val_loss: 0.6748 - val_accuracy: 0.7995\n",
      "Epoch 32/50\n",
      "125/125 [==============================] - 1s 8ms/step - loss: 0.7348 - accuracy: 0.7738 - val_loss: 0.6657 - val_accuracy: 0.8062\n",
      "Epoch 33/50\n",
      "125/125 [==============================] - 1s 7ms/step - loss: 0.7201 - accuracy: 0.7777 - val_loss: 0.6645 - val_accuracy: 0.8020\n",
      "Epoch 34/50\n",
      "125/125 [==============================] - 1s 8ms/step - loss: 0.7062 - accuracy: 0.7802 - val_loss: 0.6502 - val_accuracy: 0.8060\n",
      "Epoch 35/50\n",
      "125/125 [==============================] - 1s 8ms/step - loss: 0.6955 - accuracy: 0.7847 - val_loss: 0.6391 - val_accuracy: 0.8125\n",
      "Epoch 36/50\n",
      "125/125 [==============================] - 1s 8ms/step - loss: 0.6840 - accuracy: 0.7891 - val_loss: 0.6349 - val_accuracy: 0.8098\n",
      "Epoch 37/50\n",
      "125/125 [==============================] - 1s 7ms/step - loss: 0.6688 - accuracy: 0.7932 - val_loss: 0.6140 - val_accuracy: 0.8198\n",
      "Epoch 38/50\n",
      "125/125 [==============================] - 1s 8ms/step - loss: 0.6625 - accuracy: 0.7919 - val_loss: 0.6143 - val_accuracy: 0.8155\n",
      "Epoch 39/50\n",
      "125/125 [==============================] - 1s 8ms/step - loss: 0.6492 - accuracy: 0.7989 - val_loss: 0.5969 - val_accuracy: 0.8200\n",
      "Epoch 40/50\n",
      "125/125 [==============================] - 1s 8ms/step - loss: 0.6414 - accuracy: 0.8022 - val_loss: 0.5899 - val_accuracy: 0.8253\n",
      "Epoch 41/50\n",
      "125/125 [==============================] - 1s 8ms/step - loss: 0.6304 - accuracy: 0.8016 - val_loss: 0.5753 - val_accuracy: 0.8317\n",
      "Epoch 42/50\n",
      "125/125 [==============================] - 1s 8ms/step - loss: 0.6213 - accuracy: 0.8035 - val_loss: 0.5676 - val_accuracy: 0.8270\n",
      "Epoch 43/50\n",
      "125/125 [==============================] - 1s 8ms/step - loss: 0.6072 - accuracy: 0.8081 - val_loss: 0.5482 - val_accuracy: 0.8342\n",
      "Epoch 44/50\n",
      "125/125 [==============================] - 1s 8ms/step - loss: 0.5985 - accuracy: 0.8152 - val_loss: 0.5432 - val_accuracy: 0.8378\n",
      "Epoch 45/50\n",
      "125/125 [==============================] - 1s 8ms/step - loss: 0.5941 - accuracy: 0.8123 - val_loss: 0.5297 - val_accuracy: 0.8475\n",
      "Epoch 46/50\n",
      "125/125 [==============================] - 1s 8ms/step - loss: 0.5845 - accuracy: 0.8176 - val_loss: 0.5263 - val_accuracy: 0.8432\n",
      "Epoch 47/50\n",
      "125/125 [==============================] - 1s 7ms/step - loss: 0.5744 - accuracy: 0.8206 - val_loss: 0.5162 - val_accuracy: 0.8455\n",
      "Epoch 48/50\n",
      "125/125 [==============================] - 1s 8ms/step - loss: 0.5697 - accuracy: 0.8237 - val_loss: 0.5104 - val_accuracy: 0.8468\n",
      "Epoch 49/50\n",
      "125/125 [==============================] - 1s 8ms/step - loss: 0.5562 - accuracy: 0.8254 - val_loss: 0.5016 - val_accuracy: 0.8518\n",
      "Epoch 50/50\n",
      "125/125 [==============================] - 1s 8ms/step - loss: 0.5484 - accuracy: 0.8298 - val_loss: 0.4920 - val_accuracy: 0.8495\n"
     ]
    },
    {
     "data": {
      "text/plain": [
       "<keras.callbacks.History at 0x1ebed6d57f0>"
      ]
     },
     "execution_count": 20,
     "metadata": {},
     "output_type": "execute_result"
    }
   ],
   "source": [
    "model.fit(x_train, y_train, epochs=50, batch_size=128, verbose=1,validation_data=(x_test, y_test))"
   ]
  },
  {
   "cell_type": "code",
   "execution_count": 21,
   "id": "e96ffbfb",
   "metadata": {},
   "outputs": [
    {
     "name": "stdout",
     "output_type": "stream",
     "text": [
      "125/125 [==============================] - 0s 2ms/step\n"
     ]
    }
   ],
   "source": [
    " predictions = model.predict(x_test)"
   ]
  },
  {
   "cell_type": "code",
   "execution_count": 22,
   "id": "156e7820",
   "metadata": {},
   "outputs": [
    {
     "name": "stdout",
     "output_type": "stream",
     "text": [
      "[1.28540505e-05 5.12553946e-08 1.12254871e-03 1.03645679e-02\n",
      " 7.58864260e-08 6.55370923e-06 3.14175239e-04 1.21049717e-01\n",
      " 1.84876825e-08 5.36167772e-06 3.46989400e-04 6.27376212e-05\n",
      " 1.51684552e-01 5.48353493e-01 1.25534892e-01 3.05746507e-05\n",
      " 9.78905882e-05 1.00107025e-03 9.87887034e-08 3.48439848e-04\n",
      " 3.40961330e-02 1.76906018e-04 5.38990367e-03 3.28188037e-07\n",
      " 1.51882169e-08 3.80791427e-13]\n",
      "Actual label : 13\n",
      "Predicted label : 13\n",
      "Class (A-Z) : N\n"
     ]
    }
   ],
   "source": [
    "index=10\n",
    "\n",
    "print(predictions[index])\n",
    "\n",
    "final_value=np.argmax(predictions[index])\n",
    "\n",
    "print(\"Actual label :\",y_test[index])\n",
    "print(\"Predicted label :\",final_value)\n",
    "print(\"Class (A-Z) :\",class_names[final_value])"
   ]
  },
  {
   "cell_type": "code",
   "execution_count": 23,
   "id": "3358fd60",
   "metadata": {},
   "outputs": [
    {
     "name": "stdout",
     "output_type": "stream",
     "text": [
      "125/125 [==============================] - 0s 2ms/step - loss: 0.4920 - accuracy: 0.8495\n",
      "Loss : 0.4919666647911072\n",
      "Accuracy (Test Data) : 84.95000004768372\n"
     ]
    }
   ],
   "source": [
    "loss, accuracy = model.evaluate(x_test, y_test)\n",
    "\n",
    "print(\"Loss :\",loss)\n",
    "print(\"Accuracy (Test Data) :\",accuracy*100)"
   ]
  }
 ],
 "metadata": {
  "kernelspec": {
   "display_name": "Python 3 (ipykernel)",
   "language": "python",
   "name": "python3"
  },
  "language_info": {
   "codemirror_mode": {
    "name": "ipython",
    "version": 3
   },
   "file_extension": ".py",
   "mimetype": "text/x-python",
   "name": "python",
   "nbconvert_exporter": "python",
   "pygments_lexer": "ipython3",
   "version": "3.9.7"
  }
 },
 "nbformat": 4,
 "nbformat_minor": 5
}
