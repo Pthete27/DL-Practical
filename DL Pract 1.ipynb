{
 "cells": [
  {
   "cell_type": "code",
   "execution_count": 1,
   "id": "04f6545b",
   "metadata": {},
   "outputs": [],
   "source": [
    "import pandas as pd\n",
    "import numpy as np\n",
    "from sklearn.model_selection import train_test_split"
   ]
  },
  {
   "cell_type": "code",
   "execution_count": 2,
   "id": "33fab574",
   "metadata": {},
   "outputs": [],
   "source": [
    "df = pd.read_csv(r\"D:\\Amit\\PVG CLG\\SEM 8\\Practicals\\BostonHousingData.csv\")"
   ]
  },
  {
   "cell_type": "code",
   "execution_count": 3,
   "id": "be0b3f70",
   "metadata": {},
   "outputs": [
    {
     "data": {
      "text/html": [
       "<div>\n",
       "<style scoped>\n",
       "    .dataframe tbody tr th:only-of-type {\n",
       "        vertical-align: middle;\n",
       "    }\n",
       "\n",
       "    .dataframe tbody tr th {\n",
       "        vertical-align: top;\n",
       "    }\n",
       "\n",
       "    .dataframe thead th {\n",
       "        text-align: right;\n",
       "    }\n",
       "</style>\n",
       "<table border=\"1\" class=\"dataframe\">\n",
       "  <thead>\n",
       "    <tr style=\"text-align: right;\">\n",
       "      <th></th>\n",
       "      <th>CRIM</th>\n",
       "      <th>ZN</th>\n",
       "      <th>INDUS</th>\n",
       "      <th>CHAS</th>\n",
       "      <th>NOX</th>\n",
       "      <th>RM</th>\n",
       "      <th>AGE</th>\n",
       "      <th>DIS</th>\n",
       "      <th>RAD</th>\n",
       "      <th>TAX</th>\n",
       "      <th>PTRATIO</th>\n",
       "      <th>B</th>\n",
       "      <th>LSTAT</th>\n",
       "      <th>MEDV</th>\n",
       "    </tr>\n",
       "  </thead>\n",
       "  <tbody>\n",
       "    <tr>\n",
       "      <th>0</th>\n",
       "      <td>0.00632</td>\n",
       "      <td>18.0</td>\n",
       "      <td>2.31</td>\n",
       "      <td>0</td>\n",
       "      <td>0.538</td>\n",
       "      <td>6.575</td>\n",
       "      <td>65.2</td>\n",
       "      <td>4.0900</td>\n",
       "      <td>1</td>\n",
       "      <td>296</td>\n",
       "      <td>15.3</td>\n",
       "      <td>396.90</td>\n",
       "      <td>4.98</td>\n",
       "      <td>24.0</td>\n",
       "    </tr>\n",
       "    <tr>\n",
       "      <th>1</th>\n",
       "      <td>0.02731</td>\n",
       "      <td>0.0</td>\n",
       "      <td>7.07</td>\n",
       "      <td>0</td>\n",
       "      <td>0.469</td>\n",
       "      <td>6.421</td>\n",
       "      <td>78.9</td>\n",
       "      <td>4.9671</td>\n",
       "      <td>2</td>\n",
       "      <td>242</td>\n",
       "      <td>17.8</td>\n",
       "      <td>396.90</td>\n",
       "      <td>9.14</td>\n",
       "      <td>21.6</td>\n",
       "    </tr>\n",
       "    <tr>\n",
       "      <th>2</th>\n",
       "      <td>0.02729</td>\n",
       "      <td>0.0</td>\n",
       "      <td>7.07</td>\n",
       "      <td>0</td>\n",
       "      <td>0.469</td>\n",
       "      <td>7.185</td>\n",
       "      <td>61.1</td>\n",
       "      <td>4.9671</td>\n",
       "      <td>2</td>\n",
       "      <td>242</td>\n",
       "      <td>17.8</td>\n",
       "      <td>392.83</td>\n",
       "      <td>4.03</td>\n",
       "      <td>34.7</td>\n",
       "    </tr>\n",
       "    <tr>\n",
       "      <th>3</th>\n",
       "      <td>0.03237</td>\n",
       "      <td>0.0</td>\n",
       "      <td>2.18</td>\n",
       "      <td>0</td>\n",
       "      <td>0.458</td>\n",
       "      <td>6.998</td>\n",
       "      <td>45.8</td>\n",
       "      <td>6.0622</td>\n",
       "      <td>3</td>\n",
       "      <td>222</td>\n",
       "      <td>18.7</td>\n",
       "      <td>394.63</td>\n",
       "      <td>2.94</td>\n",
       "      <td>33.4</td>\n",
       "    </tr>\n",
       "    <tr>\n",
       "      <th>4</th>\n",
       "      <td>0.06905</td>\n",
       "      <td>0.0</td>\n",
       "      <td>2.18</td>\n",
       "      <td>0</td>\n",
       "      <td>0.458</td>\n",
       "      <td>7.147</td>\n",
       "      <td>54.2</td>\n",
       "      <td>6.0622</td>\n",
       "      <td>3</td>\n",
       "      <td>222</td>\n",
       "      <td>18.7</td>\n",
       "      <td>396.90</td>\n",
       "      <td>5.33</td>\n",
       "      <td>36.2</td>\n",
       "    </tr>\n",
       "    <tr>\n",
       "      <th>...</th>\n",
       "      <td>...</td>\n",
       "      <td>...</td>\n",
       "      <td>...</td>\n",
       "      <td>...</td>\n",
       "      <td>...</td>\n",
       "      <td>...</td>\n",
       "      <td>...</td>\n",
       "      <td>...</td>\n",
       "      <td>...</td>\n",
       "      <td>...</td>\n",
       "      <td>...</td>\n",
       "      <td>...</td>\n",
       "      <td>...</td>\n",
       "      <td>...</td>\n",
       "    </tr>\n",
       "    <tr>\n",
       "      <th>501</th>\n",
       "      <td>0.06263</td>\n",
       "      <td>0.0</td>\n",
       "      <td>11.93</td>\n",
       "      <td>0</td>\n",
       "      <td>0.573</td>\n",
       "      <td>6.593</td>\n",
       "      <td>69.1</td>\n",
       "      <td>2.4786</td>\n",
       "      <td>1</td>\n",
       "      <td>273</td>\n",
       "      <td>21.0</td>\n",
       "      <td>391.99</td>\n",
       "      <td>9.67</td>\n",
       "      <td>22.4</td>\n",
       "    </tr>\n",
       "    <tr>\n",
       "      <th>502</th>\n",
       "      <td>0.04527</td>\n",
       "      <td>0.0</td>\n",
       "      <td>11.93</td>\n",
       "      <td>0</td>\n",
       "      <td>0.573</td>\n",
       "      <td>6.120</td>\n",
       "      <td>76.7</td>\n",
       "      <td>2.2875</td>\n",
       "      <td>1</td>\n",
       "      <td>273</td>\n",
       "      <td>21.0</td>\n",
       "      <td>396.90</td>\n",
       "      <td>9.08</td>\n",
       "      <td>20.6</td>\n",
       "    </tr>\n",
       "    <tr>\n",
       "      <th>503</th>\n",
       "      <td>0.06076</td>\n",
       "      <td>0.0</td>\n",
       "      <td>11.93</td>\n",
       "      <td>0</td>\n",
       "      <td>0.573</td>\n",
       "      <td>6.976</td>\n",
       "      <td>91.0</td>\n",
       "      <td>2.1675</td>\n",
       "      <td>1</td>\n",
       "      <td>273</td>\n",
       "      <td>21.0</td>\n",
       "      <td>396.90</td>\n",
       "      <td>5.64</td>\n",
       "      <td>23.9</td>\n",
       "    </tr>\n",
       "    <tr>\n",
       "      <th>504</th>\n",
       "      <td>0.10959</td>\n",
       "      <td>0.0</td>\n",
       "      <td>11.93</td>\n",
       "      <td>0</td>\n",
       "      <td>0.573</td>\n",
       "      <td>6.794</td>\n",
       "      <td>89.3</td>\n",
       "      <td>2.3889</td>\n",
       "      <td>1</td>\n",
       "      <td>273</td>\n",
       "      <td>21.0</td>\n",
       "      <td>393.45</td>\n",
       "      <td>6.48</td>\n",
       "      <td>22.0</td>\n",
       "    </tr>\n",
       "    <tr>\n",
       "      <th>505</th>\n",
       "      <td>0.04741</td>\n",
       "      <td>0.0</td>\n",
       "      <td>11.93</td>\n",
       "      <td>0</td>\n",
       "      <td>0.573</td>\n",
       "      <td>6.030</td>\n",
       "      <td>80.8</td>\n",
       "      <td>2.5050</td>\n",
       "      <td>1</td>\n",
       "      <td>273</td>\n",
       "      <td>21.0</td>\n",
       "      <td>396.90</td>\n",
       "      <td>7.88</td>\n",
       "      <td>11.9</td>\n",
       "    </tr>\n",
       "  </tbody>\n",
       "</table>\n",
       "<p>506 rows × 14 columns</p>\n",
       "</div>"
      ],
      "text/plain": [
       "        CRIM    ZN  INDUS  CHAS    NOX     RM   AGE     DIS  RAD  TAX  \\\n",
       "0    0.00632  18.0   2.31     0  0.538  6.575  65.2  4.0900    1  296   \n",
       "1    0.02731   0.0   7.07     0  0.469  6.421  78.9  4.9671    2  242   \n",
       "2    0.02729   0.0   7.07     0  0.469  7.185  61.1  4.9671    2  242   \n",
       "3    0.03237   0.0   2.18     0  0.458  6.998  45.8  6.0622    3  222   \n",
       "4    0.06905   0.0   2.18     0  0.458  7.147  54.2  6.0622    3  222   \n",
       "..       ...   ...    ...   ...    ...    ...   ...     ...  ...  ...   \n",
       "501  0.06263   0.0  11.93     0  0.573  6.593  69.1  2.4786    1  273   \n",
       "502  0.04527   0.0  11.93     0  0.573  6.120  76.7  2.2875    1  273   \n",
       "503  0.06076   0.0  11.93     0  0.573  6.976  91.0  2.1675    1  273   \n",
       "504  0.10959   0.0  11.93     0  0.573  6.794  89.3  2.3889    1  273   \n",
       "505  0.04741   0.0  11.93     0  0.573  6.030  80.8  2.5050    1  273   \n",
       "\n",
       "     PTRATIO       B  LSTAT  MEDV  \n",
       "0       15.3  396.90   4.98  24.0  \n",
       "1       17.8  396.90   9.14  21.6  \n",
       "2       17.8  392.83   4.03  34.7  \n",
       "3       18.7  394.63   2.94  33.4  \n",
       "4       18.7  396.90   5.33  36.2  \n",
       "..       ...     ...    ...   ...  \n",
       "501     21.0  391.99   9.67  22.4  \n",
       "502     21.0  396.90   9.08  20.6  \n",
       "503     21.0  396.90   5.64  23.9  \n",
       "504     21.0  393.45   6.48  22.0  \n",
       "505     21.0  396.90   7.88  11.9  \n",
       "\n",
       "[506 rows x 14 columns]"
      ]
     },
     "execution_count": 3,
     "metadata": {},
     "output_type": "execute_result"
    }
   ],
   "source": [
    "df"
   ]
  },
  {
   "cell_type": "code",
   "execution_count": 4,
   "id": "0e0ad9dc",
   "metadata": {},
   "outputs": [],
   "source": [
    "x = df.drop(\"MEDV\", axis=1).values\n",
    "y = df[\"MEDV\"].values"
   ]
  },
  {
   "cell_type": "code",
   "execution_count": 5,
   "id": "da858d14",
   "metadata": {},
   "outputs": [
    {
     "data": {
      "text/plain": [
       "(506, 13)"
      ]
     },
     "execution_count": 5,
     "metadata": {},
     "output_type": "execute_result"
    }
   ],
   "source": [
    "x.shape"
   ]
  },
  {
   "cell_type": "code",
   "execution_count": 6,
   "id": "83458f5f",
   "metadata": {},
   "outputs": [
    {
     "data": {
      "text/plain": [
       "(506,)"
      ]
     },
     "execution_count": 6,
     "metadata": {},
     "output_type": "execute_result"
    }
   ],
   "source": [
    "y.shape"
   ]
  },
  {
   "cell_type": "code",
   "execution_count": 7,
   "id": "12023a1e",
   "metadata": {},
   "outputs": [],
   "source": [
    " x_train, x_test, y_train, y_test = train_test_split(x, y, test_size=0.2)"
   ]
  },
  {
   "cell_type": "code",
   "execution_count": 8,
   "id": "6a8ea655",
   "metadata": {},
   "outputs": [
    {
     "name": "stdout",
     "output_type": "stream",
     "text": [
      "x_train Shape : (404, 13)\n",
      "x_test Shape : (102, 13)\n",
      "y_train shape : (404,)\n",
      "y_test shape : (102,)\n"
     ]
    }
   ],
   "source": [
    "def shape():\n",
    "    print(\"x_train Shape :\",x_train.shape)\n",
    "    print(\"x_test Shape :\",x_test.shape)\n",
    "    print(\"y_train shape :\",y_train.shape)\n",
    "    print(\"y_test shape :\",y_test.shape)\n",
    "\n",
    "shape()"
   ]
  },
  {
   "cell_type": "code",
   "execution_count": 9,
   "id": "67aa4299",
   "metadata": {},
   "outputs": [],
   "source": [
    "mean=x_train.mean(axis=0)\n",
    "std=x_train.std(axis=0)\n",
    "\n",
    "x_train=(x_train-mean)/std\n",
    "x_test=(x_test-mean)/std"
   ]
  },
  {
   "cell_type": "code",
   "execution_count": 10,
   "id": "0031fb2c",
   "metadata": {},
   "outputs": [
    {
     "data": {
      "text/plain": [
       "array([-0.40264407, -0.49697434, -0.16397964, -0.26761547, -0.0689257 ,\n",
       "        0.5894263 ,  0.4849276 , -0.53131254, -0.41677545,  0.118258  ,\n",
       "       -0.31237686,  0.42468848, -0.32791218])"
      ]
     },
     "execution_count": 10,
     "metadata": {},
     "output_type": "execute_result"
    }
   ],
   "source": [
    "x_train[0]"
   ]
  },
  {
   "cell_type": "code",
   "execution_count": 11,
   "id": "844b36f3",
   "metadata": {},
   "outputs": [
    {
     "data": {
      "text/plain": [
       "22.8"
      ]
     },
     "execution_count": 11,
     "metadata": {},
     "output_type": "execute_result"
    }
   ],
   "source": [
    "y_train[0]"
   ]
  },
  {
   "cell_type": "code",
   "execution_count": 12,
   "id": "e401d2d2",
   "metadata": {},
   "outputs": [],
   "source": [
    "from tensorflow.keras.models import Sequential\n",
    "from tensorflow.keras.layers import Dense"
   ]
  },
  {
   "cell_type": "code",
   "execution_count": 13,
   "id": "cde14177",
   "metadata": {},
   "outputs": [
    {
     "name": "stdout",
     "output_type": "stream",
     "text": [
      "Model: \"sequential\"\n",
      "_________________________________________________________________\n",
      " Layer (type)                Output Shape              Param #   \n",
      "=================================================================\n",
      " dense (Dense)               (None, 128)               1792      \n",
      "                                                                 \n",
      " dense_1 (Dense)             (None, 64)                8256      \n",
      "                                                                 \n",
      " dense_2 (Dense)             (None, 1)                 65        \n",
      "                                                                 \n",
      "=================================================================\n",
      "Total params: 10,113\n",
      "Trainable params: 10,113\n",
      "Non-trainable params: 0\n",
      "_________________________________________________________________\n"
     ]
    }
   ],
   "source": [
    "model=Sequential()\n",
    "model.add(Dense(128,activation='relu',input_shape=(x_train[0].shape)))\n",
    "model.add(Dense(64,activation='relu'))\n",
    "model.add(Dense(1,activation='linear'))\n",
    "model.compile(optimizer='adam', loss='mse', metrics=['mae'])\n",
    "model.summary()\n"
   ]
  },
  {
   "cell_type": "code",
   "execution_count": 14,
   "id": "94985889",
   "metadata": {},
   "outputs": [
    {
     "name": "stdout",
     "output_type": "stream",
     "text": [
      "Epoch 1/100\n",
      "404/404 [==============================] - 2s 3ms/step - loss: 119.1207 - mae: 7.3032 - val_loss: 20.4691 - val_mae: 3.2556\n",
      "Epoch 2/100\n",
      "404/404 [==============================] - 1s 2ms/step - loss: 18.6002 - mae: 3.0692 - val_loss: 17.1093 - val_mae: 2.7996\n",
      "Epoch 3/100\n",
      "404/404 [==============================] - 1s 2ms/step - loss: 15.4597 - mae: 2.7467 - val_loss: 16.4957 - val_mae: 2.6916\n",
      "Epoch 4/100\n",
      "404/404 [==============================] - 1s 3ms/step - loss: 14.5491 - mae: 2.7658 - val_loss: 13.6879 - val_mae: 2.5267\n",
      "Epoch 5/100\n",
      "404/404 [==============================] - 1s 2ms/step - loss: 13.1250 - mae: 2.4877 - val_loss: 13.5254 - val_mae: 2.4929\n",
      "Epoch 6/100\n",
      "404/404 [==============================] - 1s 2ms/step - loss: 12.2801 - mae: 2.4689 - val_loss: 13.2084 - val_mae: 2.5847\n",
      "Epoch 7/100\n",
      "404/404 [==============================] - 1s 2ms/step - loss: 11.8042 - mae: 2.4054 - val_loss: 18.0779 - val_mae: 2.9119\n",
      "Epoch 8/100\n",
      "404/404 [==============================] - 1s 2ms/step - loss: 11.2654 - mae: 2.4354 - val_loss: 14.1057 - val_mae: 2.5837\n",
      "Epoch 9/100\n",
      "404/404 [==============================] - 1s 2ms/step - loss: 11.0405 - mae: 2.3293 - val_loss: 12.0486 - val_mae: 2.4697\n",
      "Epoch 10/100\n",
      "404/404 [==============================] - 1s 2ms/step - loss: 10.4107 - mae: 2.3307 - val_loss: 12.1126 - val_mae: 2.2858\n",
      "Epoch 11/100\n",
      "404/404 [==============================] - 1s 3ms/step - loss: 10.2099 - mae: 2.2489 - val_loss: 12.1839 - val_mae: 2.2985\n",
      "Epoch 12/100\n",
      "404/404 [==============================] - 1s 3ms/step - loss: 9.7988 - mae: 2.2499 - val_loss: 10.2335 - val_mae: 2.2560\n",
      "Epoch 13/100\n",
      "404/404 [==============================] - 1s 2ms/step - loss: 9.2569 - mae: 2.2120 - val_loss: 12.6731 - val_mae: 2.4765\n",
      "Epoch 14/100\n",
      "404/404 [==============================] - 1s 2ms/step - loss: 9.4944 - mae: 2.2371 - val_loss: 11.6919 - val_mae: 2.4311\n",
      "Epoch 15/100\n",
      "404/404 [==============================] - 1s 3ms/step - loss: 9.4770 - mae: 2.2265 - val_loss: 12.2077 - val_mae: 2.4731\n",
      "Epoch 16/100\n",
      "404/404 [==============================] - 1s 3ms/step - loss: 9.5988 - mae: 2.2334 - val_loss: 11.0158 - val_mae: 2.2233\n",
      "Epoch 17/100\n",
      "404/404 [==============================] - 1s 2ms/step - loss: 8.1928 - mae: 2.0520 - val_loss: 9.1970 - val_mae: 2.0665\n",
      "Epoch 18/100\n",
      "404/404 [==============================] - 1s 3ms/step - loss: 7.8510 - mae: 2.0682 - val_loss: 12.9877 - val_mae: 2.4301\n",
      "Epoch 19/100\n",
      "404/404 [==============================] - 1s 3ms/step - loss: 8.1239 - mae: 2.0516 - val_loss: 11.8119 - val_mae: 2.4174\n",
      "Epoch 20/100\n",
      "404/404 [==============================] - 1s 3ms/step - loss: 7.7162 - mae: 2.0229 - val_loss: 8.6278 - val_mae: 2.1488\n",
      "Epoch 21/100\n",
      "404/404 [==============================] - 1s 3ms/step - loss: 7.0490 - mae: 1.9257 - val_loss: 9.3055 - val_mae: 2.1164\n",
      "Epoch 22/100\n",
      "404/404 [==============================] - 1s 3ms/step - loss: 7.1440 - mae: 1.9591 - val_loss: 9.0650 - val_mae: 2.0560\n",
      "Epoch 23/100\n",
      "404/404 [==============================] - 1s 3ms/step - loss: 7.0899 - mae: 1.9204 - val_loss: 9.8517 - val_mae: 2.1866\n",
      "Epoch 24/100\n",
      "404/404 [==============================] - 1s 3ms/step - loss: 6.5255 - mae: 1.9098 - val_loss: 9.8212 - val_mae: 2.1763\n",
      "Epoch 25/100\n",
      "404/404 [==============================] - 2s 4ms/step - loss: 6.7069 - mae: 1.9194 - val_loss: 10.5196 - val_mae: 2.1826\n",
      "Epoch 26/100\n",
      "404/404 [==============================] - 1s 3ms/step - loss: 6.3042 - mae: 1.8837 - val_loss: 8.4487 - val_mae: 2.0833\n",
      "Epoch 27/100\n",
      "404/404 [==============================] - 1s 3ms/step - loss: 6.4337 - mae: 1.8340 - val_loss: 10.7963 - val_mae: 2.2783\n",
      "Epoch 28/100\n",
      "404/404 [==============================] - 1s 3ms/step - loss: 6.1816 - mae: 1.8200 - val_loss: 8.8719 - val_mae: 2.0696\n",
      "Epoch 29/100\n",
      "404/404 [==============================] - 2s 4ms/step - loss: 6.2379 - mae: 1.8297 - val_loss: 9.4558 - val_mae: 2.2263\n",
      "Epoch 30/100\n",
      "404/404 [==============================] - 1s 3ms/step - loss: 5.6636 - mae: 1.7570 - val_loss: 8.2320 - val_mae: 2.1154\n",
      "Epoch 31/100\n",
      "404/404 [==============================] - 1s 2ms/step - loss: 5.5192 - mae: 1.7437 - val_loss: 8.1367 - val_mae: 2.0288\n",
      "Epoch 32/100\n",
      "404/404 [==============================] - 1s 2ms/step - loss: 5.5731 - mae: 1.7376 - val_loss: 10.2328 - val_mae: 2.1957\n",
      "Epoch 33/100\n",
      "404/404 [==============================] - 1s 2ms/step - loss: 5.3767 - mae: 1.6950 - val_loss: 9.8354 - val_mae: 2.2203\n",
      "Epoch 34/100\n",
      "404/404 [==============================] - 1s 2ms/step - loss: 5.2954 - mae: 1.7007 - val_loss: 8.9803 - val_mae: 2.1061\n",
      "Epoch 35/100\n",
      "404/404 [==============================] - 1s 2ms/step - loss: 4.9637 - mae: 1.6569 - val_loss: 8.7493 - val_mae: 2.1002\n",
      "Epoch 36/100\n",
      "404/404 [==============================] - 1s 2ms/step - loss: 4.9504 - mae: 1.6430 - val_loss: 8.0003 - val_mae: 1.9536\n",
      "Epoch 37/100\n",
      "404/404 [==============================] - 1s 2ms/step - loss: 4.7367 - mae: 1.6034 - val_loss: 9.4180 - val_mae: 2.2063\n",
      "Epoch 38/100\n",
      "404/404 [==============================] - 1s 2ms/step - loss: 5.1875 - mae: 1.7314 - val_loss: 8.7912 - val_mae: 2.1182\n",
      "Epoch 39/100\n",
      "404/404 [==============================] - 1s 3ms/step - loss: 4.8224 - mae: 1.6888 - val_loss: 10.4747 - val_mae: 2.4022\n",
      "Epoch 40/100\n",
      "404/404 [==============================] - 1s 2ms/step - loss: 4.2786 - mae: 1.5557 - val_loss: 10.2355 - val_mae: 2.4986\n",
      "Epoch 41/100\n",
      "404/404 [==============================] - 1s 2ms/step - loss: 4.5514 - mae: 1.6049 - val_loss: 7.7018 - val_mae: 2.0120\n",
      "Epoch 42/100\n",
      "404/404 [==============================] - 1s 2ms/step - loss: 4.6868 - mae: 1.5886 - val_loss: 8.1204 - val_mae: 2.0368\n",
      "Epoch 43/100\n",
      "404/404 [==============================] - 1s 2ms/step - loss: 5.0310 - mae: 1.6272 - val_loss: 8.8970 - val_mae: 1.9963\n",
      "Epoch 44/100\n",
      "404/404 [==============================] - 1s 2ms/step - loss: 4.4577 - mae: 1.5700 - val_loss: 11.3937 - val_mae: 2.3856\n",
      "Epoch 45/100\n",
      "404/404 [==============================] - 1s 2ms/step - loss: 4.4363 - mae: 1.5779 - val_loss: 9.0122 - val_mae: 2.0226\n",
      "Epoch 46/100\n",
      "404/404 [==============================] - 1s 3ms/step - loss: 4.0186 - mae: 1.4781 - val_loss: 8.3416 - val_mae: 2.0693\n",
      "Epoch 47/100\n",
      "404/404 [==============================] - 1s 2ms/step - loss: 4.1958 - mae: 1.5319 - val_loss: 11.8216 - val_mae: 2.2828\n",
      "Epoch 48/100\n",
      "404/404 [==============================] - 1s 2ms/step - loss: 4.2230 - mae: 1.5621 - val_loss: 8.7097 - val_mae: 2.0991\n",
      "Epoch 49/100\n",
      "404/404 [==============================] - 1s 2ms/step - loss: 4.1067 - mae: 1.5544 - val_loss: 9.3374 - val_mae: 2.1374\n",
      "Epoch 50/100\n",
      "404/404 [==============================] - 1s 2ms/step - loss: 3.6941 - mae: 1.4263 - val_loss: 9.0088 - val_mae: 2.0423\n",
      "Epoch 51/100\n",
      "404/404 [==============================] - 1s 2ms/step - loss: 3.8962 - mae: 1.4761 - val_loss: 8.8117 - val_mae: 2.0291\n",
      "Epoch 52/100\n",
      "404/404 [==============================] - 1s 2ms/step - loss: 3.6522 - mae: 1.4841 - val_loss: 9.3050 - val_mae: 2.1162\n",
      "Epoch 53/100\n",
      "404/404 [==============================] - 1s 2ms/step - loss: 3.6683 - mae: 1.4462 - val_loss: 10.6224 - val_mae: 2.2361\n",
      "Epoch 54/100\n",
      "404/404 [==============================] - 1s 2ms/step - loss: 3.5743 - mae: 1.4293 - val_loss: 10.2176 - val_mae: 2.1658\n",
      "Epoch 55/100\n",
      "404/404 [==============================] - 1s 2ms/step - loss: 3.8577 - mae: 1.4619 - val_loss: 8.9362 - val_mae: 2.1046\n",
      "Epoch 56/100\n",
      "404/404 [==============================] - 1s 2ms/step - loss: 3.8102 - mae: 1.4896 - val_loss: 10.2084 - val_mae: 2.1891\n",
      "Epoch 57/100\n",
      "404/404 [==============================] - 1s 2ms/step - loss: 3.9760 - mae: 1.4888 - val_loss: 8.8530 - val_mae: 2.0564\n",
      "Epoch 58/100\n",
      "404/404 [==============================] - 1s 2ms/step - loss: 3.1689 - mae: 1.3612 - val_loss: 10.6176 - val_mae: 2.4406\n",
      "Epoch 59/100\n",
      "404/404 [==============================] - 1s 2ms/step - loss: 3.2986 - mae: 1.3896 - val_loss: 9.8081 - val_mae: 2.2755\n",
      "Epoch 60/100\n",
      "404/404 [==============================] - 1s 2ms/step - loss: 3.6759 - mae: 1.4457 - val_loss: 11.4851 - val_mae: 2.4732\n",
      "Epoch 61/100\n",
      "404/404 [==============================] - 1s 2ms/step - loss: 3.3390 - mae: 1.3661 - val_loss: 8.0618 - val_mae: 1.9055\n",
      "Epoch 62/100\n",
      "404/404 [==============================] - 1s 2ms/step - loss: 2.8735 - mae: 1.3016 - val_loss: 9.9751 - val_mae: 2.1281\n",
      "Epoch 63/100\n",
      "404/404 [==============================] - 1s 2ms/step - loss: 3.5971 - mae: 1.4455 - val_loss: 7.8813 - val_mae: 2.1176\n",
      "Epoch 64/100\n",
      "404/404 [==============================] - 1s 2ms/step - loss: 3.0132 - mae: 1.3051 - val_loss: 8.7849 - val_mae: 1.9705\n",
      "Epoch 65/100\n",
      "404/404 [==============================] - 1s 2ms/step - loss: 3.0473 - mae: 1.3660 - val_loss: 8.8370 - val_mae: 2.1424\n",
      "Epoch 66/100\n",
      "404/404 [==============================] - 1s 3ms/step - loss: 2.9563 - mae: 1.3247 - val_loss: 12.4838 - val_mae: 2.3774\n",
      "Epoch 67/100\n",
      "404/404 [==============================] - 1s 2ms/step - loss: 2.6773 - mae: 1.2675 - val_loss: 9.5080 - val_mae: 2.1901\n",
      "Epoch 68/100\n",
      "404/404 [==============================] - 1s 2ms/step - loss: 2.6332 - mae: 1.2196 - val_loss: 9.0268 - val_mae: 2.1302\n",
      "Epoch 69/100\n",
      "404/404 [==============================] - 1s 2ms/step - loss: 2.8543 - mae: 1.2850 - val_loss: 9.0881 - val_mae: 2.0350\n",
      "Epoch 70/100\n",
      "404/404 [==============================] - 1s 2ms/step - loss: 2.8907 - mae: 1.2672 - val_loss: 10.6304 - val_mae: 2.0726\n",
      "Epoch 71/100\n",
      "404/404 [==============================] - 1s 3ms/step - loss: 2.7499 - mae: 1.2585 - val_loss: 9.5400 - val_mae: 2.1291\n",
      "Epoch 72/100\n",
      "404/404 [==============================] - 1s 2ms/step - loss: 2.6155 - mae: 1.2350 - val_loss: 9.3399 - val_mae: 2.0829\n",
      "Epoch 73/100\n",
      "404/404 [==============================] - 1s 3ms/step - loss: 2.6873 - mae: 1.2151 - val_loss: 9.5728 - val_mae: 1.9973\n",
      "Epoch 74/100\n",
      "404/404 [==============================] - 1s 3ms/step - loss: 3.0993 - mae: 1.3227 - val_loss: 8.3519 - val_mae: 2.0330\n",
      "Epoch 75/100\n",
      "404/404 [==============================] - 1s 2ms/step - loss: 2.6241 - mae: 1.2188 - val_loss: 12.4760 - val_mae: 2.4676\n",
      "Epoch 76/100\n",
      "404/404 [==============================] - 1s 3ms/step - loss: 2.7841 - mae: 1.2887 - val_loss: 9.3661 - val_mae: 2.0726\n",
      "Epoch 77/100\n",
      "404/404 [==============================] - 1s 3ms/step - loss: 2.6940 - mae: 1.2657 - val_loss: 8.9042 - val_mae: 2.0428\n",
      "Epoch 78/100\n",
      "404/404 [==============================] - 1s 2ms/step - loss: 2.7125 - mae: 1.2626 - val_loss: 9.1986 - val_mae: 2.1916\n",
      "Epoch 79/100\n",
      "404/404 [==============================] - 1s 2ms/step - loss: 2.5632 - mae: 1.2140 - val_loss: 8.4921 - val_mae: 1.9866\n",
      "Epoch 80/100\n",
      "404/404 [==============================] - 1s 3ms/step - loss: 2.6879 - mae: 1.2057 - val_loss: 8.2887 - val_mae: 2.0157\n",
      "Epoch 81/100\n",
      "404/404 [==============================] - 1s 2ms/step - loss: 2.3261 - mae: 1.1526 - val_loss: 7.5265 - val_mae: 1.9731\n",
      "Epoch 82/100\n",
      "404/404 [==============================] - 1s 2ms/step - loss: 2.1165 - mae: 1.1011 - val_loss: 9.9329 - val_mae: 2.1833\n",
      "Epoch 83/100\n",
      "404/404 [==============================] - 1s 2ms/step - loss: 2.4307 - mae: 1.1895 - val_loss: 7.7572 - val_mae: 1.9765\n",
      "Epoch 84/100\n",
      "404/404 [==============================] - 1s 2ms/step - loss: 2.0988 - mae: 1.0738 - val_loss: 8.6518 - val_mae: 1.8934\n",
      "Epoch 85/100\n",
      "404/404 [==============================] - 1s 2ms/step - loss: 2.2289 - mae: 1.1396 - val_loss: 10.5205 - val_mae: 2.2024\n",
      "Epoch 86/100\n",
      "404/404 [==============================] - 1s 2ms/step - loss: 2.3989 - mae: 1.1754 - val_loss: 11.6713 - val_mae: 2.1774\n",
      "Epoch 87/100\n",
      "404/404 [==============================] - 1s 2ms/step - loss: 2.5578 - mae: 1.1725 - val_loss: 9.0805 - val_mae: 2.1761\n",
      "Epoch 88/100\n",
      "404/404 [==============================] - 1s 2ms/step - loss: 3.0565 - mae: 1.2994 - val_loss: 9.5107 - val_mae: 1.9774\n",
      "Epoch 89/100\n",
      "404/404 [==============================] - 1s 2ms/step - loss: 2.3675 - mae: 1.1946 - val_loss: 9.5022 - val_mae: 2.0558\n",
      "Epoch 90/100\n",
      "404/404 [==============================] - 1s 2ms/step - loss: 1.9355 - mae: 1.0354 - val_loss: 8.6929 - val_mae: 1.9558\n",
      "Epoch 91/100\n",
      "404/404 [==============================] - 1s 2ms/step - loss: 1.9493 - mae: 1.0566 - val_loss: 9.7982 - val_mae: 2.1901\n",
      "Epoch 92/100\n",
      "404/404 [==============================] - 1s 2ms/step - loss: 1.8664 - mae: 1.0275 - val_loss: 8.5596 - val_mae: 2.0745\n",
      "Epoch 93/100\n",
      "404/404 [==============================] - 1s 2ms/step - loss: 1.8107 - mae: 1.0193 - val_loss: 9.3809 - val_mae: 2.1298\n",
      "Epoch 94/100\n",
      "404/404 [==============================] - 1s 2ms/step - loss: 2.5055 - mae: 1.2251 - val_loss: 9.1016 - val_mae: 2.1992\n",
      "Epoch 95/100\n",
      "404/404 [==============================] - 1s 2ms/step - loss: 1.9953 - mae: 1.0817 - val_loss: 8.8959 - val_mae: 2.2019\n",
      "Epoch 96/100\n",
      "404/404 [==============================] - 1s 2ms/step - loss: 2.3034 - mae: 1.1328 - val_loss: 8.4929 - val_mae: 2.0270\n",
      "Epoch 97/100\n",
      "404/404 [==============================] - 1s 2ms/step - loss: 2.1884 - mae: 1.1277 - val_loss: 10.3796 - val_mae: 2.1483\n",
      "Epoch 98/100\n",
      "404/404 [==============================] - 1s 2ms/step - loss: 2.3891 - mae: 1.1480 - val_loss: 9.7529 - val_mae: 2.1463\n",
      "Epoch 99/100\n",
      "404/404 [==============================] - 1s 2ms/step - loss: 2.3602 - mae: 1.1667 - val_loss: 12.9663 - val_mae: 2.4599\n",
      "Epoch 100/100\n",
      "404/404 [==============================] - 1s 2ms/step - loss: 2.1137 - mae: 1.1072 - val_loss: 8.0761 - val_mae: 2.0018\n"
     ]
    },
    {
     "data": {
      "text/plain": [
       "<keras.callbacks.History at 0x1b36cd88a30>"
      ]
     },
     "execution_count": 14,
     "metadata": {},
     "output_type": "execute_result"
    }
   ],
   "source": [
    "model.fit(x_train, y_train, epochs=100, batch_size=1, verbose=1,validation_data=(x_test, y_test))"
   ]
  },
  {
   "cell_type": "code",
   "execution_count": 15,
   "id": "56b9af58",
   "metadata": {},
   "outputs": [
    {
     "data": {
      "text/plain": [
       "array([-0.38225112, -0.49697434,  1.54315575, -0.26761547,  0.58499507,\n",
       "       -0.15381853,  0.90659621, -1.02653137, -0.64462022,  0.14768048,\n",
       "        1.26050018,  0.34265125,  1.64294089])"
      ]
     },
     "execution_count": 15,
     "metadata": {},
     "output_type": "execute_result"
    }
   ],
   "source": [
    "x_test[8]"
   ]
  },
  {
   "cell_type": "code",
   "execution_count": 16,
   "id": "e3a4788a",
   "metadata": {},
   "outputs": [
    {
     "name": "stdout",
     "output_type": "stream",
     "text": [
      "ActuaOutput : 14.0\n",
      "1/1 [==============================] - 0s 306ms/step\n",
      "Predicted Output : [[24.169613]]\n"
     ]
    }
   ],
   "source": [
    "test_input=[[-0.42101827, -0.50156705, -1.13081973, -0.25683275, -0.55572682, 0.19758953, 0.20684755, -0.34272202, -0.87422469, -0.84336666, -0.32505625, 0.41244772, -0.63500406]]\n",
    "\n",
    "print(\"ActuaOutput :\",y_test[8])\n",
    "print(\"Predicted Output :\",model.predict(test_input))"
   ]
  },
  {
   "cell_type": "code",
   "execution_count": 17,
   "id": "1b25c17b",
   "metadata": {},
   "outputs": [
    {
     "name": "stdout",
     "output_type": "stream",
     "text": [
      "4/4 [==============================] - 0s 3ms/step - loss: 8.0761 - mae: 2.0018\n",
      "Mean squared error on test data : 8.076054573059082\n",
      "Mean absolute error on test data : 2.0018439292907715\n"
     ]
    }
   ],
   "source": [
    "mse_nn,mae_nn=model.evaluate(x_test,y_test)\n",
    "\n",
    "print('Mean squared error on test data :',mse_nn)\n",
    "print('Mean absolute error on test data :',mae_nn)"
   ]
  },
  {
   "cell_type": "code",
   "execution_count": 18,
   "id": "58231466",
   "metadata": {},
   "outputs": [
    {
     "name": "stdout",
     "output_type": "stream",
     "text": [
      "4/4 [==============================] - 0s 2ms/step\n",
      "R2 Score : 0.8983678472196478\n"
     ]
    }
   ],
   "source": [
    "from sklearn.metrics import r2_score\n",
    "\n",
    "y_dl=model.predict(x_test)\n",
    "r2=r2_score(y_test,y_dl)\n",
    "\n",
    "print('R2 Score :',r2)"
   ]
  }
 ],
 "metadata": {
  "kernelspec": {
   "display_name": "Python 3 (ipykernel)",
   "language": "python",
   "name": "python3"
  },
  "language_info": {
   "codemirror_mode": {
    "name": "ipython",
    "version": 3
   },
   "file_extension": ".py",
   "mimetype": "text/x-python",
   "name": "python",
   "nbconvert_exporter": "python",
   "pygments_lexer": "ipython3",
   "version": "3.9.7"
  }
 },
 "nbformat": 4,
 "nbformat_minor": 5
}
