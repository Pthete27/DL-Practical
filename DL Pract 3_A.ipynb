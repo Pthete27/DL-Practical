{
 "cells": [
  {
   "cell_type": "code",
   "execution_count": 1,
   "id": "2983e681",
   "metadata": {},
   "outputs": [],
   "source": [
    "from tensorflow.keras.preprocessing.image import ImageDataGenerator, load_img, img_to_array"
   ]
  },
  {
   "cell_type": "code",
   "execution_count": 2,
   "id": "002133fd",
   "metadata": {},
   "outputs": [],
   "source": [
    "train_dir = r'C:\\Users\\mohit\\Downloads\\Dataset\\New Plant Diseases Dataset(Augmented)\\train'\n",
    "val_dir = r'C:\\Users\\mohit\\Downloads\\Dataset\\New Plant Diseases Dataset(Augmented)\\valid'"
   ]
  },
  {
   "cell_type": "code",
   "execution_count": 3,
   "id": "b238b636",
   "metadata": {},
   "outputs": [],
   "source": [
    "img_size = 224\n",
    "batch_size = 8"
   ]
  },
  {
   "cell_type": "code",
   "execution_count": 4,
   "id": "f39364a4",
   "metadata": {},
   "outputs": [
    {
     "name": "stdout",
     "output_type": "stream",
     "text": [
      "Found 600 images belonging to 3 classes.\n"
     ]
    }
   ],
   "source": [
    "train_datagen = ImageDataGenerator(rescale=1./255)\n",
    "train_generator = train_datagen.flow_from_directory(train_dir, target_size=(img_size, img_size), batch_size=batch_size, class_mode='categorical')"
   ]
  },
  {
   "cell_type": "code",
   "execution_count": 5,
   "id": "88299f4c",
   "metadata": {},
   "outputs": [
    {
     "name": "stdout",
     "output_type": "stream",
     "text": [
      "Found 600 images belonging to 3 classes.\n"
     ]
    }
   ],
   "source": [
    "val_datagen = ImageDataGenerator(rescale=1./255)\n",
    "val_generator = val_datagen.flow_from_directory(val_dir, target_size=(img_size, img_size), batch_size=batch_size, class_mode='categorical')"
   ]
  },
  {
   "cell_type": "code",
   "execution_count": 6,
   "id": "5b361722",
   "metadata": {},
   "outputs": [
    {
     "data": {
      "text/plain": [
       "['Tomato___Bacterial_spot', 'Tomato___Early_blight', 'Tomato___healthy']"
      ]
     },
     "execution_count": 6,
     "metadata": {},
     "output_type": "execute_result"
    }
   ],
   "source": [
    "list(train_generator.class_indices)"
   ]
  },
  {
   "cell_type": "code",
   "execution_count": 7,
   "id": "93e080ef",
   "metadata": {},
   "outputs": [],
   "source": [
    "from tensorflow.keras.models import Sequential\n",
    "from tensorflow.keras.layers import Conv2D, MaxPooling2D, Flatten, Dense, Dropout, BatchNormalization"
   ]
  },
  {
   "cell_type": "code",
   "execution_count": 8,
   "id": "3b4d8f7a",
   "metadata": {},
   "outputs": [
    {
     "name": "stdout",
     "output_type": "stream",
     "text": [
      "Model: \"sequential\"\n",
      "_________________________________________________________________\n",
      " Layer (type)                Output Shape              Param #   \n",
      "=================================================================\n",
      " conv2d (Conv2D)             (None, 222, 222, 32)      896       \n",
      "                                                                 \n",
      " batch_normalization (BatchN  (None, 222, 222, 32)     128       \n",
      " ormalization)                                                   \n",
      "                                                                 \n",
      " max_pooling2d (MaxPooling2D  (None, 111, 111, 32)     0         \n",
      " )                                                               \n",
      "                                                                 \n",
      " conv2d_1 (Conv2D)           (None, 109, 109, 64)      18496     \n",
      "                                                                 \n",
      " batch_normalization_1 (Batc  (None, 109, 109, 64)     256       \n",
      " hNormalization)                                                 \n",
      "                                                                 \n",
      " max_pooling2d_1 (MaxPooling  (None, 54, 54, 64)       0         \n",
      " 2D)                                                             \n",
      "                                                                 \n",
      " conv2d_2 (Conv2D)           (None, 52, 52, 64)        36928     \n",
      "                                                                 \n",
      " batch_normalization_2 (Batc  (None, 52, 52, 64)       256       \n",
      " hNormalization)                                                 \n",
      "                                                                 \n",
      " max_pooling2d_2 (MaxPooling  (None, 26, 26, 64)       0         \n",
      " 2D)                                                             \n",
      "                                                                 \n",
      " conv2d_3 (Conv2D)           (None, 24, 24, 128)       73856     \n",
      "                                                                 \n",
      " batch_normalization_3 (Batc  (None, 24, 24, 128)      512       \n",
      " hNormalization)                                                 \n",
      "                                                                 \n",
      " max_pooling2d_3 (MaxPooling  (None, 12, 12, 128)      0         \n",
      " 2D)                                                             \n",
      "                                                                 \n",
      " flatten (Flatten)           (None, 18432)             0         \n",
      "                                                                 \n",
      " dense (Dense)               (None, 128)               2359424   \n",
      "                                                                 \n",
      " dropout (Dropout)           (None, 128)               0         \n",
      "                                                                 \n",
      " dense_1 (Dense)             (None, 64)                8256      \n",
      "                                                                 \n",
      " dense_2 (Dense)             (None, 3)                 195       \n",
      "                                                                 \n",
      "=================================================================\n",
      "Total params: 2,499,203\n",
      "Trainable params: 2,498,627\n",
      "Non-trainable params: 576\n",
      "_________________________________________________________________\n"
     ]
    }
   ],
   "source": [
    "model = Sequential()\n",
    "\n",
    "model.add((Conv2D(32, (3,3), activation='relu', input_shape=(img_size, img_size, 3))))\n",
    "\n",
    "model.add(BatchNormalization())\n",
    "model.add((MaxPooling2D(2,2)))\n",
    "\n",
    "model.add((Conv2D(64, (3,3), activation='relu')))\n",
    "\n",
    "model.add(BatchNormalization())\n",
    "model.add((MaxPooling2D(2,2)))\n",
    "\n",
    "model.add((Conv2D(64, (3,3), activation='relu')))\n",
    "\n",
    "model.add(BatchNormalization())\n",
    "model.add((MaxPooling2D(2,2)))\n",
    "\n",
    "model.add((Conv2D(128, (3,3), activation='relu')))\n",
    "\n",
    "model.add(BatchNormalization())\n",
    "model.add((MaxPooling2D(2,2)))\n",
    "\n",
    "model.add((Flatten()))\n",
    "\n",
    "model.add((Dense(128, activation='relu')))\n",
    "model.add((Dropout(0.2)))\n",
    "\n",
    "model.add((Dense(64, activation='relu')))\n",
    "model.add((Dense(train_generator.num_classes, activation='softmax')))\n",
    "\n",
    "model.summary()"
   ]
  },
  {
   "cell_type": "code",
   "execution_count": 9,
   "id": "eacec870",
   "metadata": {},
   "outputs": [],
   "source": [
    "model.compile(optimizer='adam', loss='categorical_crossentropy', metrics=['accuracy'])"
   ]
  },
  {
   "cell_type": "code",
   "execution_count": 10,
   "id": "733bf4ae",
   "metadata": {},
   "outputs": [
    {
     "name": "stdout",
     "output_type": "stream",
     "text": [
      "Epoch 1/15\n",
      "75/75 [==============================] - 111s 1s/step - loss: 2.2947 - accuracy: 0.7150 - val_loss: 3.2722 - val_accuracy: 0.3900\n",
      "Epoch 2/15\n",
      "75/75 [==============================] - 104s 1s/step - loss: 1.2632 - accuracy: 0.8217 - val_loss: 8.2602 - val_accuracy: 0.1833\n",
      "Epoch 3/15\n",
      "75/75 [==============================] - 109s 1s/step - loss: 1.4098 - accuracy: 0.8183 - val_loss: 7.9735 - val_accuracy: 0.3550\n",
      "Epoch 4/15\n",
      "75/75 [==============================] - 107s 1s/step - loss: 0.5291 - accuracy: 0.8983 - val_loss: 1.7274 - val_accuracy: 0.6267\n",
      "Epoch 5/15\n",
      "75/75 [==============================] - 104s 1s/step - loss: 0.5846 - accuracy: 0.9017 - val_loss: 17.2710 - val_accuracy: 0.3633\n",
      "Epoch 6/15\n",
      "75/75 [==============================] - 104s 1s/step - loss: 0.7002 - accuracy: 0.8833 - val_loss: 6.0234 - val_accuracy: 0.4750\n",
      "Epoch 7/15\n",
      "75/75 [==============================] - 104s 1s/step - loss: 0.8220 - accuracy: 0.8800 - val_loss: 4.5686 - val_accuracy: 0.7167\n",
      "Epoch 8/15\n",
      "75/75 [==============================] - 104s 1s/step - loss: 0.4858 - accuracy: 0.9017 - val_loss: 6.5004 - val_accuracy: 0.5150\n",
      "Epoch 9/15\n",
      "75/75 [==============================] - 72s 959ms/step - loss: 0.3903 - accuracy: 0.9283 - val_loss: 1.9729 - val_accuracy: 0.6667\n",
      "Epoch 10/15\n",
      "75/75 [==============================] - 79s 1s/step - loss: 0.2812 - accuracy: 0.9417 - val_loss: 5.2905 - val_accuracy: 0.6467\n",
      "Epoch 11/15\n",
      "75/75 [==============================] - 88s 1s/step - loss: 0.4405 - accuracy: 0.9283 - val_loss: 0.6650 - val_accuracy: 0.8817\n",
      "Epoch 12/15\n",
      "75/75 [==============================] - 81s 1s/step - loss: 0.2013 - accuracy: 0.9583 - val_loss: 3.1865 - val_accuracy: 0.7267\n",
      "Epoch 13/15\n",
      "75/75 [==============================] - 75s 998ms/step - loss: 0.2043 - accuracy: 0.9450 - val_loss: 2.7704 - val_accuracy: 0.7000\n",
      "Epoch 14/15\n",
      "75/75 [==============================] - 75s 997ms/step - loss: 0.3243 - accuracy: 0.9400 - val_loss: 0.9881 - val_accuracy: 0.8000\n",
      "Epoch 15/15\n",
      "75/75 [==============================] - 75s 996ms/step - loss: 0.2506 - accuracy: 0.9417 - val_loss: 1.9972 - val_accuracy: 0.7650\n"
     ]
    },
    {
     "data": {
      "text/plain": [
       "<keras.callbacks.History at 0x161f5f06760>"
      ]
     },
     "execution_count": 10,
     "metadata": {},
     "output_type": "execute_result"
    }
   ],
   "source": [
    "model.fit(train_generator, epochs=15, validation_data=val_generator)"
   ]
  },
  {
   "cell_type": "code",
   "execution_count": 13,
   "id": "e01620fe",
   "metadata": {},
   "outputs": [
    {
     "name": "stdout",
     "output_type": "stream",
     "text": [
      "75/75 [==============================] - 14s 192ms/step - loss: 1.9972 - accuracy: 0.7650\n",
      "Loss : 1.9972470998764038\n",
      "Accuracy (Test Data) : 76.49999856948853\n"
     ]
    }
   ],
   "source": [
    "loss, accuracy = model.evaluate(val_generator)\n",
    "print(\"Loss :\",loss)\n",
    "print(\"Accuracy (Test Data) :\",accuracy*100)"
   ]
  },
  {
   "cell_type": "code",
   "execution_count": 14,
   "id": "980bbe3d",
   "metadata": {},
   "outputs": [],
   "source": [
    "import numpy as np\n",
    "\n",
    "img_path =r'C:\\Users\\mohit\\Downloads\\Dataset\\New Plant Diseases Dataset(Augmented)\\valid\\Tomato___Early_blight\\5b86ab6a-3823-4886-85fd-02190898563c___RS_Erly.B 8452.JPG'\n",
    "\n",
    "img = load_img(img_path, target_size=(224, 224))\n",
    "img_array = img_to_array(img)\n",
    "img_array = np.expand_dims(img_array, axis=0)\n",
    "img_array /= 255."
   ]
  },
  {
   "cell_type": "code",
   "execution_count": 15,
   "id": "68f8ea14",
   "metadata": {},
   "outputs": [
    {
     "name": "stdout",
     "output_type": "stream",
     "text": [
      "1/1 [==============================] - 1s 528ms/step\n"
     ]
    }
   ],
   "source": [
    "prediction = model.predict(img_array)\n",
    "class_names=['Tomato___Bacterial_spot', 'Tomato___Early_blight', 'Tomato___healthy']"
   ]
  },
  {
   "cell_type": "code",
   "execution_count": 16,
   "id": "42836e15",
   "metadata": {},
   "outputs": [
    {
     "name": "stdout",
     "output_type": "stream",
     "text": [
      "[[9.5002679e-11 1.0000000e+00 2.4680663e-22]]\n",
      "1\n",
      "Predicted class: Tomato___Early_blight\n"
     ]
    }
   ],
   "source": [
    "predicted_class = np.argmax(prediction)\n",
    "print(prediction)\n",
    "print(predicted_class)\n",
    "print('Predicted class:', class_names[predicted_class])"
   ]
  }
 ],
 "metadata": {
  "kernelspec": {
   "display_name": "Python 3 (ipykernel)",
   "language": "python",
   "name": "python3"
  },
  "language_info": {
   "codemirror_mode": {
    "name": "ipython",
    "version": 3
   },
   "file_extension": ".py",
   "mimetype": "text/x-python",
   "name": "python",
   "nbconvert_exporter": "python",
   "pygments_lexer": "ipython3",
   "version": "3.9.7"
  }
 },
 "nbformat": 4,
 "nbformat_minor": 5
}
